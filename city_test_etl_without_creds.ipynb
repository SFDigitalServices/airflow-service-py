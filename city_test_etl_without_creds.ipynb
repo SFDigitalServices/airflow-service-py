{
 "cells": [
  {
   "cell_type": "markdown",
   "metadata": {},
   "source": [
    "# City Test appointment ETL\n",
    "\n",
    "Download data from Form.io and Acuity, combine and send to Color\n",
    "\n",
    "1. Get some data from form.io\n",
    "2. Get some data from Acuity\n",
    "3. Combine it to the right format"
   ]
  },
  {
   "cell_type": "markdown",
   "metadata": {},
   "source": [
    "## Data that's needed\n",
    " - DSW# - acuity form thing - form ID = 1368026 , field id = 7514073\n",
    " - Last - acuity top level\n",
    " - First - acuity top level\n",
    " - Email - acuity top level\n",
    " - Phone - acuity top level\n",
    " - Test Date - acuity top level\n",
    " - Test Time - acuity top level\n",
    " - insurance/pcp - need to understand how it's formatted - from form.io. \n",
    "     - insurance (including other) - top level\n",
    "     - primary care first name - if PCP key present\n",
    "     - primary care last name - if PCP key present\n",
    "     - practice or hospital - ditto\n",
    "     - city - ditto \n",
    "     - state - ditto"
   ]
  },
  {
   "cell_type": "code",
   "execution_count": 38,
   "metadata": {},
   "outputs": [
    {
     "name": "stdout",
     "output_type": "stream",
     "text": [
      "Requirement already satisfied: paramiko in /usr/local/lib/python3.7/site-packages (2.7.1)\n",
      "Requirement already satisfied: pynacl>=1.0.1 in /usr/local/lib/python3.7/site-packages (from paramiko) (1.3.0)\n",
      "Requirement already satisfied: bcrypt>=3.1.3 in /usr/local/lib/python3.7/site-packages (from paramiko) (3.1.7)\n",
      "Requirement already satisfied: cryptography>=2.5 in /usr/local/lib/python3.7/site-packages (from paramiko) (2.9)\n",
      "Requirement already satisfied: six in /usr/local/lib/python3.7/site-packages (from pynacl>=1.0.1->paramiko) (1.12.0)\n",
      "Requirement already satisfied: cffi>=1.4.1 in /usr/local/lib/python3.7/site-packages (from pynacl>=1.0.1->paramiko) (1.14.0)\n",
      "Requirement already satisfied: pycparser in /usr/local/lib/python3.7/site-packages (from cffi>=1.4.1->pynacl>=1.0.1->paramiko) (2.20)\n",
      "\u001b[33mWARNING: You are using pip version 19.1.1, however version 20.0.2 is available.\n",
      "You should consider upgrading via the 'pip install --upgrade pip' command.\u001b[0m\n",
      "Note: you may need to restart the kernel to use updated packages.\n"
     ]
    }
   ],
   "source": [
    "pip install paramiko"
   ]
  },
  {
   "cell_type": "code",
   "execution_count": 39,
   "metadata": {},
   "outputs": [],
   "source": [
    "import requests\n",
    "from requests.auth import HTTPBasicAuth\n",
    "from urllib.parse import urljoin\n",
    "import datetime\n",
    "from datetime import date\n",
    "import csv\n",
    "import pysftp\n",
    "import paramiko"
   ]
  },
  {
   "cell_type": "code",
   "execution_count": 3,
   "metadata": {},
   "outputs": [],
   "source": []
  },
  {
   "cell_type": "markdown",
   "metadata": {},
   "source": [
    "# Acuity"
   ]
  },
  {
   "cell_type": "code",
   "execution_count": 6,
   "metadata": {},
   "outputs": [],
   "source": [
    "def get_acuity_appointments(start_date=date.today(), end_date=date.today()):\n",
    "    url = urljoin(ACUITY_BASE_URL, '/api/v1/appointments')\n",
    "    params={\n",
    "        'appointmentTypeID': ACUITY_APPT_TYPE,\n",
    "        'minDate': start_date.strftime('%Y-%m-%d'),\n",
    "        'maxDate': end_date.strftime('%Y-%m-%d'),\n",
    "        'canceled': False\n",
    "    }\n",
    "    \n",
    "    \n",
    "    response = requests.get(\n",
    "        url,\n",
    "        auth=HTTPBasicAuth(ACUITY_USER, ACUITY_PWD),\n",
    "        params=params\n",
    "    )\n",
    "    \n",
    "    response.raise_for_status()\n",
    "    \n",
    "    return response.json()"
   ]
  },
  {
   "cell_type": "code",
   "execution_count": 7,
   "metadata": {},
   "outputs": [],
   "source": [
    "appointments = get_acuity_appointments((date.today() + datetime.timedelta(days=2)), (date.today() + datetime.timedelta(days=2)))"
   ]
  },
  {
   "cell_type": "markdown",
   "metadata": {},
   "source": [
    "# Form.io"
   ]
  },
  {
   "cell_type": "code",
   "execution_count": 83,
   "metadata": {},
   "outputs": [],
   "source": [
    "def get_formio_responses(dsw_ids, select_fields = 'data.dsw,data.insuranceCarrier,data.hasPCP,data.pcp,created,data.lastReportedWorkDate'):\n",
    "    headers = {\n",
    "        'x-token': '{}'.format(FORMIO_API_KEY),\n",
    "        'Content-Type': 'application/json'\n",
    "    }\n",
    "    formio_url = '{base_url}/form/{form_id}/{submission_endpoint}'.format(\n",
    "        base_url=FORMIO_BASE_URL, \n",
    "        form_id=FORM_ID, \n",
    "        submission_endpoint='submission'\n",
    "    )\n",
    "    \n",
    "    # FIXME - set limit based on length of dsws and limit length of dsws to max 2048 query string\n",
    "    params = {'limit': 500}\n",
    "    if select_fields: params['select'] = select_fields\n",
    "    if dsw_ids: params['data.dsw__in'] = ','.join(dsw_ids)\n",
    "\n",
    "    response = requests.get(\n",
    "        formio_url,\n",
    "        headers=headers,\n",
    "        params=params\n",
    "    )\n",
    "    response.raise_for_status()\n",
    "    return response.json()"
   ]
  },
  {
   "cell_type": "code",
   "execution_count": 84,
   "metadata": {},
   "outputs": [],
   "source": [
    "resps = get_formio_responses(dsws, select_fields=None)"
   ]
  },
  {
   "cell_type": "code",
   "execution_count": 85,
   "metadata": {},
   "outputs": [
    {
     "data": {
      "text/plain": [
       "43"
      ]
     },
     "execution_count": 85,
     "metadata": {},
     "output_type": "execute_result"
    }
   ],
   "source": [
    "len(resps)"
   ]
  },
  {
   "cell_type": "markdown",
   "metadata": {},
   "source": [
    "# Combine the two and format it nicely\n",
    "1. ~~Get appointments from Acuity~~\n",
    "1. ~~Get the fields we want and the format that we want~~\n",
    "1. ~~Get DSWs from appointments~~\n",
    "1. ~~Query for Insurance/PCP data from Form.io based on DSWs~~\n",
    "1. ~~Combine the data on DSW~~\n",
    "1. Format it nicely"
   ]
  },
  {
   "cell_type": "code",
   "execution_count": 14,
   "metadata": {},
   "outputs": [],
   "source": [
    "appointments = get_acuity_appointments((date.today() + datetime.timedelta(days=-1)), (date.today() + datetime.timedelta(days=-1)))"
   ]
  },
  {
   "cell_type": "code",
   "execution_count": 15,
   "metadata": {},
   "outputs": [],
   "source": [
    "def parse_appointment(appointment):\n",
    "    dsw_field_id = 7514073\n",
    "    dsw_form_id = 1368026\n",
    "    top_level_fields = [\n",
    "        'firstName',\n",
    "        'lastName',\n",
    "        'phone',\n",
    "        'email',\n",
    "        'datetime',\n",
    "        'id'\n",
    "    ]\n",
    "    # Filter to only keys that we want\n",
    "    parsed = dict((k, appointment[k]) for k in top_level_fields if k in appointment)\n",
    "\n",
    "    \n",
    "    # Looks like next is the most performant way to do this search https://stackoverflow.com/questions/8653516/python-list-of-dictionaries-search\n",
    "    dsw_form = next((item.get('values') for item in appointment['forms'] if item['id'] == dsw_form_id), [])\n",
    "    dsw = next((item.get('value') for item in dsw_form if item['fieldID'] == dsw_field_id), None)\n",
    "    \n",
    "    \n",
    "    parsed['dsw'] = dsw if dsw else None\n",
    "    \n",
    "    # Rename id and datetime\n",
    "    parsed['acuityId'] = parsed.pop('id')\n",
    "    parsed['appointmentDatetime'] = parsed.pop('datetime')\n",
    "\n",
    "    return parsed\n",
    "    \n",
    "    "
   ]
  },
  {
   "cell_type": "code",
   "execution_count": 16,
   "metadata": {},
   "outputs": [
    {
     "data": {
      "text/plain": [
       "{'firstName': 'pavina',\n",
       " 'lastName': 'marin',\n",
       " 'phone': '5555555555',\n",
       " 'email': 'bobo@dogo.com',\n",
       " 'dsw': '1111111',\n",
       " 'acuityId': 370386671,\n",
       " 'appointmentDatetime': '2020-04-07T16:00:00-0700'}"
      ]
     },
     "execution_count": 16,
     "metadata": {},
     "output_type": "execute_result"
    }
   ],
   "source": [
    "parse_appointment(appointments[0])"
   ]
  },
  {
   "cell_type": "code",
   "execution_count": 17,
   "metadata": {},
   "outputs": [],
   "source": [
    "parsed_appointments = [parse_appointment(appt) for appt in appointments]"
   ]
  },
  {
   "cell_type": "code",
   "execution_count": 126,
   "metadata": {},
   "outputs": [
    {
     "ename": "SyntaxError",
     "evalue": "invalid syntax (<ipython-input-126-0ec961f203f2>, line 19)",
     "output_type": "error",
     "traceback": [
      "\u001b[0;36m  File \u001b[0;32m\"<ipython-input-126-0ec961f203f2>\"\u001b[0;36m, line \u001b[0;32m19\u001b[0m\n\u001b[0;31m    if !formio_merge: print('Missing formio data for DSW:', dsw)\u001b[0m\n\u001b[0m       ^\u001b[0m\n\u001b[0;31mSyntaxError\u001b[0m\u001b[0;31m:\u001b[0m invalid syntax\n"
     ]
    }
   ],
   "source": [
    "def parse_formio_response(response):\n",
    "    dsw = response['data']['dsw']\n",
    "    parsed = {\n",
    "        'hasNoPCP': response['data'].get('hasPCP', None),\n",
    "        'responseSubmittedDate': response['created'],\n",
    "        'lastReportedWorkDate': response['data']['lastReportedWorkDate'],\n",
    "        'insuranceCarrier': response['data']['insuranceCarrier'],\n",
    "        'formioId': response['_id']\n",
    "    }    \n",
    "    if ('pcp' in response['data']): parsed.update(response['data']['pcp']) \n",
    "    \n",
    "    return (dsw, parsed)\n",
    "\n",
    "def merge_acuity_formio(parsed_appointments, parsed_responses):\n",
    "    merged = []\n",
    "    for appointment in parsed_appointments:\n",
    "        dsw = appointment['dsw']\n",
    "        formio_merge = parsed_responses.get(dsw, {}) if dsw else {}\n",
    "        if !formio_merge: print('Missing formio data for DSW:', dsw)\n",
    "        merged.append({**appointment, **formio_merge})\n",
    "    return merged\n",
    "    "
   ]
  },
  {
   "cell_type": "code",
   "execution_count": 128,
   "metadata": {},
   "outputs": [],
   "source": [
    "# Convert to csv\n",
    "def write_csv(toCSV, filename='./testOutput.csv'):\n",
    "    all_keys = [\n",
    "        'firstName',\n",
    "        'lastName',\n",
    "        'phone',\n",
    "        'email',\n",
    "        'dsw',\n",
    "        'appointmentDatetime',\n",
    "        'lastReportedWorkDate',\n",
    "        'insuranceCarrier',\n",
    "        'hasNoPCP',\n",
    "        'pcpFirstName',\n",
    "        'pcpLastName',\n",
    "        'pcpPractice',\n",
    "        'pcpCity',\n",
    "        'pcpState',\n",
    "        'iAuthorizeColorToShareMyInformationAndTestResultsWithThePrimaryCarePhysicianIHaveIdentifiedOnThisFormForTreatmentAndCarePurposes',\n",
    "        'formioId',\n",
    "        'responseSubmittedDate',\n",
    "        'acuityId'\n",
    "    ]\n",
    "    with open(filename, 'w') as output_file:\n",
    "        dict_writer = csv.DictWriter(output_file, fieldnames=all_keys, restval='')\n",
    "        dict_writer.writeheader()\n",
    "        dict_writer.writerows(toCSV)\n",
    "    return filename"
   ]
  },
  {
   "cell_type": "markdown",
   "metadata": {},
   "source": [
    "# Upload to FTP server"
   ]
  },
  {
   "cell_type": "code",
   "execution_count": 35,
   "metadata": {},
   "outputs": [
    {
     "data": {
      "text/plain": [
       "'{\"status\": \"error\", \"message\": \"Cannot transfer file: No hostkey for host sftp.getcolor.com found.\"}'"
      ]
     },
     "execution_count": 35,
     "metadata": {},
     "output_type": "execute_result"
    }
   ],
   "source": [
    "# How to upload to FTP\n",
    "\n",
    "files = {'file': (filename, open(filename, 'rb'), 'text/plain', {'Expires': '0'})}\n",
    "\n",
    "headers = {\n",
    "  'ACCESS_KEY': SFDS_SFTP_ACCESS_KEY,\n",
    "  'X-SFTP-HOST': SFTP_HOSTNAME,\n",
    "  'X-SFTP-HOST-KEY': SFTP_HOST_KEY,\n",
    "  'X-SFTP-USER': SFTP_USERNAME,\n",
    "  'X-SFTP-PASSWORD': SFTP_PASSWORD,\n",
    "  'Content-Type': 'text/plain'\n",
    "}\n",
    "\n",
    "params = {\n",
    "  'remotepath': '/',\n",
    "  'filename': 'testCityTestSF.csv'\n",
    "}\n",
    "\n",
    "r = requests.post(\n",
    "    'https://sftp-microservice-py-prod.herokuapp.com/sftp',\n",
    "    files=files,\n",
    "    headers=headers,\n",
    "    params=params)\n",
    "r.text\n"
   ]
  },
  {
   "cell_type": "code",
   "execution_count": 47,
   "metadata": {},
   "outputs": [],
   "source": [
    "key = paramiko.pkey.PKey(msg=SFTP_HOST_KEY, data=SFTP_HOST_KEY)"
   ]
  },
  {
   "cell_type": "code",
   "execution_count": 87,
   "metadata": {},
   "outputs": [],
   "source": [
    "# cnopts = pysftp.CnOpts()\n",
    "# cnopts.hostkeys.add(SFTP_HOSTNAME,'ssh-rsa', key)\n",
    "\n",
    "\n",
    "# sftp = pysftp.Connection(SFTP_HOSTNAME, cnopts=cnopts,\n",
    "#                                  username=SFTP_USERNAME, password=SFTP_PASSWORD)"
   ]
  },
  {
   "cell_type": "markdown",
   "metadata": {},
   "source": [
    "# Start to finish"
   ]
  },
  {
   "cell_type": "code",
   "execution_count": 131,
   "metadata": {},
   "outputs": [
    {
     "name": "stdout",
     "output_type": "stream",
     "text": [
      "Color filename ./CityTestSF_2020-04-09_preliminary.csv\n",
      "311 filename ./CityTestSF_Appointments_311_2020-04-09.csv\n",
      "Total appts booked 65\n"
     ]
    }
   ],
   "source": [
    "# Get Acuity appointments and parse\n",
    "appointments = get_acuity_appointments((date.today() + datetime.timedelta(days=1)), (date.today() + datetime.timedelta(days=1)))\n",
    "parsed_appointments = [parse_appointment(appt) for appt in appointments]\n",
    "\n",
    "# Get and parse formio responses\n",
    "dsws = [appt['dsw'] for appt in parsed_appointments if appt['dsw']]\n",
    "parsed_formio_responses = dict([parse_formio_response(r) for r in get_formio_responses(dsws)])\n",
    "\n",
    "# Merge them together on DSW\n",
    "toCSV = merge_acuity_formio(parsed_appointments, parsed_formio_responses)\n",
    "\n",
    "# Write to csv\n",
    "filename = write_csv(toCSV, filename='./CityTestSF_2020-04-09.csv')\n",
    "\n",
    "# Write 311 info to CSV too\n",
    "filename_311 = to_311_csv(toCSV)\n",
    "\n",
    "print('Color filename', filename)\n",
    "print('311 filename', filename_311)\n",
    "print('Total appts booked', len(toCSV))\n"
   ]
  },
  {
   "cell_type": "code",
   "execution_count": 1,
   "metadata": {},
   "outputs": [
    {
     "ename": "NameError",
     "evalue": "name 'get_formio_responses' is not defined",
     "output_type": "error",
     "traceback": [
      "\u001b[0;31m---------------------------------------------------------------------------\u001b[0m",
      "\u001b[0;31mNameError\u001b[0m                                 Traceback (most recent call last)",
      "\u001b[0;32m<ipython-input-1-7cd46067db24>\u001b[0m in \u001b[0;36m<module>\u001b[0;34m\u001b[0m\n\u001b[0;32m----> 1\u001b[0;31m \u001b[0mget_formio_responses\u001b[0m\u001b[0;34m(\u001b[0m\u001b[0mdsws\u001b[0m\u001b[0;34m)\u001b[0m\u001b[0;34m\u001b[0m\u001b[0;34m\u001b[0m\u001b[0m\n\u001b[0m",
      "\u001b[0;31mNameError\u001b[0m: name 'get_formio_responses' is not defined"
     ]
    }
   ],
   "source": [
    "get_formio_responses(dsws)"
   ]
  },
  {
   "cell_type": "code",
   "execution_count": 78,
   "metadata": {},
   "outputs": [],
   "source": [
    "formio_rsponses = get_formio_responses(dsw_ids=None)"
   ]
  },
  {
   "cell_type": "code",
   "execution_count": 129,
   "metadata": {},
   "outputs": [],
   "source": [
    "def to_311_csv(toCSV, filename='./CityTestSF_Appointments_311_2020-04-09.csv'):\n",
    "    field_map = {\n",
    "        'First Name': 'firstName',\n",
    "        'Last Name': 'lastName',\n",
    "        'Phone Number': 'phone',\n",
    "        'Email': 'email',\n",
    "        'DSW': 'dsw',\n",
    "        'Appointment Time': 'appointmentDatetime',\n",
    "        'Appointment Date': 'appointmentDatetime',\n",
    "    }\n",
    "        \n",
    "    mapped = []\n",
    "    \n",
    "    for appt in toCSV:\n",
    "        mapped_appt = {k: appt[v] for k,v in field_map.items()}\n",
    "        \n",
    "        # format date and time nicely\n",
    "        dt_str = appt['appointmentDatetime']\n",
    "        dt_format ='%Y-%m-%dT%H:%M:%S%z'\n",
    "        dt = datetime.datetime.strptime(dt_str, dt_format)\n",
    "        mapped_appt['Appointment Date'] = dt.strftime('%m/%d/%Y')\n",
    "        mapped_appt['Appointment Time'] = dt.strftime('%I:%M %p')\n",
    "        \n",
    "        mapped.append(mapped_appt)\n",
    "\n",
    "    with open(filename, 'w') as output_file:\n",
    "        dict_writer = csv.DictWriter(output_file, fieldnames=field_map.keys(), restval='')\n",
    "        dict_writer.writeheader()\n",
    "        dict_writer.writerows(mapped)\n",
    "    return filename"
   ]
  },
  {
   "cell_type": "code",
   "execution_count": 124,
   "metadata": {},
   "outputs": [
    {
     "name": "stdout",
     "output_type": "stream",
     "text": [
      "filename ./CityTestSF_Appointments_311_2020-04-09.csv\n"
     ]
    },
    {
     "data": {
      "text/plain": [
       "'./CityTestSF_Appointments_311_2020-04-09.csv'"
      ]
     },
     "execution_count": 124,
     "metadata": {},
     "output_type": "execute_result"
    }
   ],
   "source": [
    "to_311_csv(toCSV)"
   ]
  },
  {
   "cell_type": "code",
   "execution_count": 107,
   "metadata": {},
   "outputs": [],
   "source": [
    "    field_map = dict({\n",
    "        'First Name': 'firstName',\n",
    "        'Last Name': 'lastName',\n",
    "        'Phone Number': 'phone',\n",
    "        'Email': 'email',\n",
    "        'DSW': 'dsw',\n",
    "        'Appointment Data': 'appointmentDatetime',\n",
    "        'Appointment Time': 'appointmentDatetime'\n",
    "    })"
   ]
  },
  {
   "cell_type": "code",
   "execution_count": 118,
   "metadata": {},
   "outputs": [],
   "source": [
    "dt_str = '2020-04-09T11:00:00-0700'\n",
    "dt_format ='%Y-%m-%dT%H:%M:%S%z'\n",
    "dt = datetime.datetime.strptime(dt_str, dt_format)"
   ]
  },
  {
   "cell_type": "code",
   "execution_count": 120,
   "metadata": {},
   "outputs": [
    {
     "data": {
      "text/plain": [
       "'11:00 AM'"
      ]
     },
     "execution_count": 120,
     "metadata": {},
     "output_type": "execute_result"
    }
   ],
   "source": [
    "dt.strftime('%I:%M %p')"
   ]
  },
  {
   "cell_type": "markdown",
   "metadata": {},
   "source": [
    "# Next steps:\n",
    "1. ~~Turn json into csv~~\n",
    "1. Upload to ftp server\n",
    "1. Where does code live?\n",
    "\n",
    "Clean up and improvements\n",
    "1. Limit total formio query string to 2048 characters to avoid cutoff. \n",
    "1. Create a more generic dict getter to get and rename based on a map. \n",
    "1. Add tests, retry, especially to ftp server"
   ]
  }
 ],
 "metadata": {
  "kernelspec": {
   "display_name": "Python 3",
   "language": "python",
   "name": "python3"
  },
  "language_info": {
   "codemirror_mode": {
    "name": "ipython",
    "version": 3
   },
   "file_extension": ".py",
   "mimetype": "text/x-python",
   "name": "python",
   "nbconvert_exporter": "python",
   "pygments_lexer": "ipython3",
   "version": "3.7.3"
  }
 },
 "nbformat": 4,
 "nbformat_minor": 2
}
